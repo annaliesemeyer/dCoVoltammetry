{
 "cells": [
  {
   "cell_type": "markdown",
   "metadata": {},
   "source": [
    "## Processing Cobalt Samples (Voltammetry)\n",
    "\n",
    "Revised 26-Mar-2024 <br>\n",
    "Written by Annaliese Meyer <br>\n",
    "Massachusetts Institute of Technology <br>\n",
    "Woods Hole Oceanographic Institution <br>\n",
    "\n",
    "This notebook will allow you to convert raw .oew files from the NOVA2 software into peak heights, and from there to concentration values using the standard additions performed. This code assumes there are 3 measurement without additions, then additions to a concentration of 25 pM, 50 pM, 75 pM and 100 pM. This notebook corrects for volume considersations assuming an volume of 8.5 mL sample delivered into an overall reaction volume of 10 mL. It does *not* correct for blanks - this must be done manually, averaging blank values for each batch. \n",
    "\n",
    "This will potentially not return correct values for blanks, as the peaks may be too small to be picked up correctly. I advise checking blanks manually with the troubleshooting option at the bottom of the page to see where peaks are placed if a value comes back weirdly - it may have defaulted to selecting the Ni peak. This program will also return the R2 value for the standard curve, its slope, and the standard deviation of the Co concentration as derived from the three scans with no Co addition. Both the Co concentration from the average of the 'zero' scans and from the x-intercept of the standard curve are reported.\n",
    "\n",
    "Please note that if a peak cannot be identified for one of the amperage scans for a given sample, then the concentration for that value will be returned as #N/A. This doesn't mean that the sample cannot be used - simply go into the amperage file, and either determine the concentration value by excluding the scan in question and using the Excel LINEST function, or using the troubleshooting script at the bottom of this program to adjust the parameters until the code can correctly identify the peak. You can also use ECDSOFT to find this peak and input the value in the amperage file. \n",
    "\n",
    "\n",
    "\n",
    "### This code will only function correctly if your files remain in the correct processing order associated with their timestamps; i.e. the 'date created' attribute must be the same as it was when exported from NOVA2. \n",
    "\n",
    "##### First, follow these steps\n",
    "Launch within CoProcessing.yml environment\n",
    "\n",
    "Make new directory within Station folder\n",
    "\n",
    "Find your directory of interest and copy its path"
   ]
  },
  {
   "cell_type": "code",
   "execution_count": 1,
   "metadata": {},
   "outputs": [],
   "source": [
    "#import all necessary packages\n",
    "\n",
    "import numpy as np\n",
    "import pandas as pd\n",
    "import rampy as rp\n",
    "import scipy\n",
    "from scipy.signal import find_peaks\n",
    "import matplotlib.pyplot as plt\n",
    "from sklearn import preprocessing\n",
    "from findpeaks import findpeaks\n",
    "import plotly.graph_objects as go\n",
    "import os\n",
    "import csv\n",
    "from sklearn.linear_model import LinearRegression\n",
    "from sklearn.metrics import mean_squared_error, r2_score\n",
    "%matplotlib inline"
   ]
  },
  {
   "cell_type": "code",
   "execution_count": 378,
   "metadata": {},
   "outputs": [
    {
     "name": "stdout",
     "output_type": "stream",
     "text": [
      "Choose your directory:\n",
      "/Users/annaliesemeyer/Documents/Cobalt Computer Backup/Co Raw Data ACSM/GP17-OCE/Blanks Run Separately/2-Feb-2023\n"
     ]
    }
   ],
   "source": [
    "directory = input(\"Choose your directory:\\n\") #copy the entire path for your directory of interest\n",
    "\n",
    "\n",
    "\n"
   ]
  },
  {
   "cell_type": "code",
   "execution_count": 379,
   "metadata": {},
   "outputs": [],
   "source": [
    "#run this to intialize the function\n",
    "\n",
    "def co_raw(directory):   \n",
    "    \n",
    "    filehome = os.listdir(directory)\n",
    "    filehome.sort(key=lambda x: os.stat(os.path.join(directory, x)).st_mtime) #reads in files according to their order in the directory \n",
    "    \n",
    "    fieldnames = ['File', 'Amperage'] #assigns field names to columns from raw NOVA2 files (.oew files)\n",
    "    with open(f'{directory} Amperage.csv','w') as writefile: #file will be named using the identified directory\n",
    "\n",
    "    \n",
    "        writer = csv.writer(writefile) #initilaize 'Amperage' file \n",
    "        \n",
    "        writer.writerow(fieldnames)\n",
    "    \n",
    "        for filename in filehome:\n",
    "            \n",
    "            print(filename)\n",
    "            f = os.path.join(directory, filename)\n",
    "            spectrum = pd.read_csv(f, delimiter = '\\t')\n",
    "    \n",
    "\n",
    "            #Rename columns to usable\n",
    "            spectrum.rename(columns = {'Potential applied (V)':'V', 'WE(1).Current (A)':'I'}, inplace = True) #change variable names for ease of programming\n",
    "\n",
    "            spectrum = spectrum.to_numpy()\n",
    "            spectrum = rp.flipsp(spectrum) #flip x axis for interpolation algorithm\n",
    "\n",
    "            x1 = np.array(spectrum[:,0]) #assign columns to x and y\n",
    "            y1 = np.array(spectrum[:,1])\n",
    "            a = np.where(x1<0)\n",
    "            acount = (np.array(a)).size\n",
    "            x = x1[a]\n",
    "            y = y1[a]\n",
    "            \n",
    "\n",
    "            y_smo_4 = rp.smooth(x,y,method=\"savgol\",window_length=7,polyorder=5) #smooth function using 'savgol' algorithm\n",
    "\n",
    "\n",
    "            # need to define some fitting regions for the spline that exclude peaks\n",
    "            roi = np.array([[-1.4,-1.05],[-0.94,-0.6]])\n",
    "    \n",
    "            # calculating the baselines \n",
    "\n",
    "            ycalc_poly_smooth, base_poly_smooth = rp.baseline(x, y, roi, 'poly', polynomial_order=9) #baseline calculated\n",
    "\n",
    "\n",
    "            base_poly_reshape_smooth = base_poly_smooth.reshape(acount,)\n",
    " \n",
    "\n",
    "            y_corr_smooth = np.subtract(y_smo_4, base_poly_reshape_smooth) #baseline subtracted from smoothed data - baseline subtraction is just to amplify the peaks to allow the program to identify them. Concentration/peak height is determined from true data.\n",
    "\n",
    "            indices = find_peaks(-y_corr_smooth, distance = 8, height = 5e-9)[0] #identify min peaks (troughs), give threshold height and distance between peaks - can be adjusted as needed\n",
    "    \n",
    "\n",
    "            indices2 = find_peaks(y_corr_smooth, distance = 15)[0] #identify maxima - this gives you the edges of the minima to place the flat baseline \n",
    "            \n",
    "            indicesnick = np.array((indices[x[indices]>-1.03])) #get all the peaks greater than a value to id the nickel peak - helps place where the Co peak will be\n",
    "            \n",
    "            #'try' block: lets you skip erroneous scans\n",
    "            try:\n",
    "                nickelpeak = min(y_corr_smooth[indicesnick]) \n",
    "            \n",
    "\n",
    "                nickelindex = np.where(y_corr_smooth[indices]==nickelpeak)\n",
    "\n",
    "                coindexstart = (np.array(nickelindex)-1)\n",
    "                coindex = coindexstart.flatten()\n",
    "        \n",
    "\n",
    "                lowerbound = max(x[indices2[x[indices2]<x[indices[coindex]]]])\n",
    "                upperbound = min(x[indices2[x[indices2]>x[indices[coindex]]]])\n",
    "\n",
    "                xindlow = np.where(x[indices2]==lowerbound) #identify index of threshold list where the lowerbound is located\n",
    "                indexlow = indices2[xindlow] #use that index to find the corresponding index value in the greater index list of all x values\n",
    "\n",
    "                xindhigh = np.where(x[indices2]==upperbound) #as above, for upperbound\n",
    "                indexhigh = indices2[xindhigh]\n",
    "\n",
    "                cobaselinex = np.concatenate((x[indices2[xindlow]], x[indices2[xindhigh]]), axis = 0) #flat peak baseline coordinates x\n",
    "                cobaseliney = np.concatenate((y[indices2[xindlow]], y[indices2[xindhigh]]), axis = 0) #as above, y\n",
    "\n",
    "\n",
    "                peakx = x[indices[coindex]]\n",
    "                peaky = y[indices[coindex]]\n",
    "\n",
    "                p1 = np.array((cobaselinex[0],cobaseliney[0]))\n",
    "                p2 = np.array((cobaselinex[1],cobaseliney[1]))\n",
    "                p3 = np.array((peakx[0],peaky[0]))\n",
    "    \n",
    "                d = np.linalg.norm(np.cross(p2-p1, p1-p3))/np.linalg.norm(p2-p1) #calculate peak height from identified baseline (method 1, not vertical, unused)\n",
    "        \n",
    "                points = [p1,p2] #calculate peak height, method 2 \n",
    "                x_coords, y_coords = zip(*points)\n",
    "                A = np.vstack([x_coords,np.ones(len(x_coords))]).T\n",
    "                m, c = np.linalg.lstsq(A, y_coords)[0] \n",
    "\n",
    "                hline = m*(peakx[0])+c\n",
    "\n",
    "                height = abs(peaky[0]-hline) #return height of peak\n",
    "            \n",
    "                data = [filename, height]\n",
    "          \n",
    "                writer.writerow(data)\n",
    "            \n",
    "            except:\n",
    "                \n",
    "                data = [filename, '#N/A'] #if peak cannot be identified, return #N/A and keep going\n",
    "                \n",
    "                writer.writerow(data)\n",
    "                \n",
    "    \n",
    "    \n",
    "\n",
    "    \n",
    "    \n",
    "        \n",
    "\n",
    "    \n",
    "        \n",
    "        "
   ]
  },
  {
   "cell_type": "code",
   "execution_count": 380,
   "metadata": {},
   "outputs": [
    {
     "name": "stdout",
     "output_type": "stream",
     "text": [
      "Blank 2-Feb-2023(3).oew\n",
      "Blank 2-Feb-2023(4).oew\n",
      "Blank 2-Feb-2023(5).oew\n",
      "Blank 2-Feb-2023(6).oew\n",
      "Blank 2-Feb-2023(7).oew\n",
      "Blank 2-Feb-2023(8).oew\n",
      "Blank 2-Feb-2023(9).oew\n",
      "Blank 2-Feb-2023(10).oew\n",
      "Blank 2-Feb-2023(11).oew\n",
      "Blank 2-Feb-2023(12).oew\n",
      "Blank 2-Feb-2023(13).oew\n",
      "Blank 2-Feb-2023(14).oew\n",
      "Blank 2-Feb-2023(15).oew\n",
      "Blank 2-Feb-2023(16).oew\n",
      "Blank 2-Feb-2023(17).oew\n",
      "Blank 2-Feb-2023(18).oew\n",
      "Blank 2-Feb-2023(19).oew\n",
      "Blank 2-Feb-2023(20).oew\n",
      "Blank 2-Feb-2023(21).oew\n",
      "Blank 2-Feb-2023(22).oew\n",
      "Blank 2-Feb-2023(23).oew\n"
     ]
    }
   ],
   "source": [
    "co_raw(directory) #run the above function\n",
    "    "
   ]
  },
  {
   "cell_type": "code",
   "execution_count": 381,
   "metadata": {},
   "outputs": [],
   "source": [
    "#initialize function to convert amperage to concentration\n",
    "\n",
    "def amps_to_conc(directory):\n",
    "\n",
    "    amperage = pd.read_csv(f'{directory} Amperage.csv') #pulls file from first step\n",
    "\n",
    "    fieldnames = ['File', 'Averaged Concentration','x Intercept','R_squared','Standard Deviation','Slope'] #name columns\n",
    "    with open(f'{directory} Concentrations.csv','w') as writefile: #file will be named using the identified directory\n",
    "\n",
    "        writer = csv.writer(writefile)\n",
    "        \n",
    "        writer.writerow(fieldnames)\n",
    "\n",
    "        for i in range(len(amperage)):\n",
    "    \n",
    "            if amperage.index[i]%7==0: #groups values into multipes of 7s \n",
    "            \n",
    "                try: \n",
    "                    conc = amperage[i:i+7]\n",
    "                    conc.insert(2, 'Addition', [0,0,0,25,50,75,100]) #match amperage to standard curve\n",
    "                    x = np.array(conc['Addition']).reshape(-1,1)\n",
    "                    y = np.array(conc['Amperage'])\n",
    "                    lm = LinearRegression()\n",
    "                    model = lm.fit(x, y) #calculate line\n",
    "                    xint = -((-model.intercept_)/model.coef_)/0.85 #calulate concentration from account for dilution\n",
    "                    mean = np.mean(conc['Amperage'][0:3]) #calculate average from 'zero' scans and slope of standard curve\n",
    "                    actual = (mean/model.coef_)/0.85 #account for dilution\n",
    "                    p1 = (conc['Amperage'][i]/model.coef_)/0.85 #calculate individual concentrations per scan for standard deviation\n",
    "                    p2 = (conc['Amperage'][i+1]/model.coef_)/0.85\n",
    "                    p3 = (conc['Amperage'][i+2]/model.coef_)/0.85\n",
    "                    std = np.std([p1,p2,p3])\n",
    "                    r_sq = model.score(x, y) #get R2 of slope\n",
    "                    data = [amperage['File'][i],actual,xint,r_sq,std,model.coef_] #write data to file\n",
    "                    writer.writerow(data)\n",
    "                    print(amperage['File'][i]) #this will print out the file name for each sample to show that it has been calculated\n",
    "                    plt.plot(x,y) #this prints out the plot for each file as a brief visual check on the linearity of the slopes. \n",
    "                    \n",
    "                except: \n",
    "                    data = [amperage['File'][i], '#N/A'] #if calculation cannot be completed, move onto the next group\n",
    "                    print(amperage['File'][i],'needs correction') #this will identify if the concentration for a given sample cannot be calculated, ie is missing an amperage measurement. See troubleshooting notes at top. \n",
    "                    writer.writerow(data)\n",
    "                \n",
    "        writefile.close()"
   ]
  },
  {
   "cell_type": "code",
   "execution_count": 382,
   "metadata": {},
   "outputs": [
    {
     "name": "stdout",
     "output_type": "stream",
     "text": [
      "Blank 2-Feb-2023(3).oew\n",
      "Blank 2-Feb-2023(10).oew\n",
      "Blank 2-Feb-2023(17).oew\n"
     ]
    },
    {
     "data": {
      "image/png": "[encoded data removed]",
      "text/plain": [
       "<Figure size 640x480 with 1 Axes>"
      ]
     },
     "metadata": {},
     "output_type": "display_data"
    }
   ],
   "source": [
    "amps_to_conc(directory) #this will run the 'amperage' file associated with this directory and return concentrations. These concentrations have not been blank corrected. \n"
   ]
  },
  {
   "cell_type": "code",
   "execution_count": null,
   "metadata": {},
   "outputs": [],
   "source": []
  },
  {
   "cell_type": "markdown",
   "metadata": {},
   "source": [
    "## Did something break, or come back with a low R2 value? Troubleshoot here.\n",
    "\n",
    "You can use this area to go through scan by scan and inspect the peaks identified, pull out the correct amperage values, or determine that a scan needs to be dropped from your calculations. "
   ]
  },
  {
   "cell_type": "code",
   "execution_count": 419,
   "metadata": {},
   "outputs": [
    {
     "name": "stdout",
     "output_type": "stream",
     "text": [
      "Choose the file that's giving you trouble:\n",
      "/Users/annaliesemeyer/Documents/Cobalt Computer Backup/Co Raw Data ACSM/GP17-OCE/Runs/23-Mar-2023/23-Mar-2023(109).oew\n"
     ]
    }
   ],
   "source": [
    "file = input(\"Choose the file that's giving you trouble:\\n\") #full path for the sample file in question, eg /Users/person/Documents/Co Raw Data/GP17-OCE/Runs/23-Mar-2023/23-Mar-2023(109).oew\n",
    "\n",
    "\n",
    "\n",
    "\n",
    "\n",
    "\n"
   ]
  },
  {
   "cell_type": "code",
   "execution_count": 423,
   "metadata": {},
   "outputs": [
    {
     "data": {
      "application/vnd.plotly.v1+json": {
       "config": {
        "plotlyServerURL": "https://plot.ly"
       },
       "data": [
        {
         "mode": "lines",
         "name": "Original Plot",
         "type": "scatter",
         "x": [
          -1.4007568359375,
          -1.3958740234375,
          -1.3909912109375,
          -1.3861083984375,
          -1.3812255859375,
          -1.3763427734375,
          -1.3714599609375,
          -1.3665771484375,
          -1.3616943359375,
          -1.3568115234375,
          -1.3519287109375,
          -1.3470458984375,
          -1.3421630859375,
          -1.3372802734375,
          -1.3323974609375,
          -1.3275146484375,
          -1.3226318359375,
          -1.3177490234375,
          -1.3128662109375,
          -1.3079833984375,
          -1.3031005859375,
          -1.2982177734375,
          -1.2933349609375,
          -1.2884521484375,
          -1.2835693359375,
          -1.2786865234375,
          -1.2738037109375,
          -1.2689208984375,
          -1.2640380859375,
          -1.2591552734375,
          -1.2542724609375,
          -1.2493896484375,
          -1.2445068359375,
          -1.2396240234375,
          -1.2347412109375,
          -1.2298583984375,
          -1.2249755859375,
          -1.2200927734375,
          -1.2152099609375,
          -1.2103271484375,
          -1.2054443359375,
          -1.2005615234375,
          -1.1956787109375,
          -1.1907958984375,
          -1.1859130859375,
          -1.1810302734375,
          -1.1761474609375,
          -1.1712646484375,
          -1.1663818359375,
          -1.1614990234375,
          -1.1566162109375,
          -1.1517333984375,
          -1.1468505859375,
          -1.1419677734375,
          -1.1370849609375,
          -1.1322021484375,
          -1.1273193359375,
          -1.1224365234375,
          -1.1175537109375,
          -1.1126708984375,
          -1.1077880859375,
          -1.1029052734375,
          -1.0980224609375,
          -1.0931396484375,
          -1.0882568359375,
          -1.0833740234375,
          -1.0784912109375,
          -1.0736083984375,
          -1.0687255859375,
          -1.0638427734375,
          -1.0589599609375,
          -1.0540771484375,
          -1.0491943359375,
          -1.0443115234375,
          -1.0394287109375,
          -1.0345458984375,
          -1.0296630859375,
          -1.0247802734375,
          -1.0198974609375,
          -1.0150146484375,
          -1.0101318359375,
          -1.0052490234375,
          -1.0003662109375,
          -0.9954833984375,
          -0.9906005859375,
          -0.9857177734375,
          -0.9808349609375,
          -0.9759521484375,
          -0.9710693359375,
          -0.9661865234375,
          -0.9613037109375,
          -0.9564208984375,
          -0.9515380859375,
          -0.9466552734375,
          -0.9417724609375,
          -0.9368896484375,
          -0.9320068359375,
          -0.9271240234375,
          -0.9222412109375,
          -0.9173583984375,
          -0.9124755859375,
          -0.9075927734375,
          -0.9027099609375,
          -0.8978271484375,
          -0.8929443359375,
          -0.8880615234375,
          -0.8831787109375,
          -0.8782958984375,
          -0.8734130859375,
          -0.8685302734375,
          -0.8636474609375,
          -0.8587646484375,
          -0.8538818359375,
          -0.8489990234375,
          -0.8441162109375,
          -0.8392333984375,
          -0.8343505859375,
          -0.8294677734375,
          -0.8245849609375,
          -0.8197021484375,
          -0.8148193359375,
          -0.8099365234375,
          -0.8050537109375,
          -0.8001708984375,
          -0.7952880859375,
          -0.7904052734375,
          -0.7855224609375,
          -0.7806396484375,
          -0.7757568359375,
          -0.7708740234375,
          -0.7659912109375,
          -0.7611083984375,
          -0.7562255859375,
          -0.7513427734375,
          -0.7464599609375,
          -0.7415771484375,
          -0.7366943359375,
          -0.7318115234375,
          -0.7269287109375,
          -0.7220458984375,
          -0.7171630859375,
          -0.7122802734375,
          -0.7073974609375,
          -0.7025146484375,
          -0.6976318359375,
          -0.6927490234375,
          -0.6878662109375,
          -0.6829833984375,
          -0.6781005859375,
          -0.6732177734375,
          -0.6683349609375,
          -0.6634521484375,
          -0.6585693359375,
          -0.6536865234375,
          -0.6488037109375,
          -0.6439208984375,
          -0.6390380859375,
          -0.6341552734375,
          -0.6292724609375,
          -0.6243896484375,
          -0.6195068359375,
          -0.6146240234375,
          -0.6097412109375,
          -0.6048583984375
         ],
         "y": [
          -1.69708251953125e-06,
          -1.6461181640625e-06,
          -1.5936279296875e-06,
          -1.5447998046875e-06,
          -1.49261474609375e-06,
          -1.44622802734375e-06,
          -1.39862060546875e-06,
          -1.35528564453125e-06,
          -1.3079833984375e-06,
          -1.265869140625e-06,
          -1.22528076171875e-06,
          -1.1822509765625e-06,
          -1.14288330078125e-06,
          -1.10504150390625e-06,
          -1.06719970703125e-06,
          -1.03057861328125e-06,
          -9.930419921875e-07,
          -9.5672607421875e-07,
          -9.222412109375e-07,
          -8.868408203125e-07,
          -8.53271484375e-07,
          -8.1817626953125e-07,
          -7.867431640625e-07,
          -7.58056640625e-07,
          -7.2662353515625e-07,
          -6.9580078125e-07,
          -6.6986083984375e-07,
          -6.4208984375e-07,
          -6.1859130859375e-07,
          -5.9295654296875e-07,
          -5.6854248046875e-07,
          -5.4595947265625e-07,
          -5.255126953125e-07,
          -5.0262451171875e-07,
          -4.8187255859375e-07,
          -4.6356201171875e-07,
          -4.4464111328125e-07,
          -4.2694091796875e-07,
          -4.1168212890625e-07,
          -3.9520263671875e-07,
          -3.8421630859375e-07,
          -3.7200927734375e-07,
          -3.5858154296875e-07,
          -3.460693359375e-07,
          -3.338623046875e-07,
          -3.2012939453125e-07,
          -3.118896484375e-07,
          -3.021240234375e-07,
          -2.9693603515625e-07,
          -3.0303955078125e-07,
          -3.204345703125e-07,
          -3.485107421875e-07,
          -3.9215087890625e-07,
          -4.3914794921875e-07,
          -4.7607421875e-07,
          -5.072021484375e-07,
          -5.1971435546875e-07,
          -5.1422119140625e-07,
          -4.98046875e-07,
          -4.7332763671875e-07,
          -4.3914794921875e-07,
          -4.052734375e-07,
          -3.7139892578125e-07,
          -3.4423828125e-07,
          -3.155517578125e-07,
          -2.8961181640625e-07,
          -2.6580810546875e-07,
          -2.484130859375e-07,
          -2.325439453125e-07,
          -2.16064453125e-07,
          -2.0111083984375e-07,
          -1.8707275390625e-07,
          -1.72119140625e-07,
          -1.62353515625e-07,
          -1.55029296875e-07,
          -1.6021728515625e-07,
          -2.0782470703125e-07,
          -3.118896484375e-07,
          -4.803466796875e-07,
          -6.7047119140625e-07,
          -8.1268310546875e-07,
          -9.161376953125e-07,
          -9.3170166015625e-07,
          -8.8714599609375e-07,
          -7.9498291015625e-07,
          -6.8115234375e-07,
          -5.7373046875e-07,
          -4.6844482421875e-07,
          -3.7353515625e-07,
          -2.99072265625e-07,
          -2.35595703125e-07,
          -1.904296875e-07,
          -1.47705078125e-07,
          -1.1993408203125e-07,
          -9.765625e-08,
          -8.148193359375e-08,
          -6.9580078125e-08,
          -5.828857421875e-08,
          -5.18798828125e-08,
          -4.5166015625e-08,
          -4.058837890625e-08,
          -3.662109375e-08,
          -3.23486328125e-08,
          -2.99072265625e-08,
          -2.838134765625e-08,
          -2.44140625e-08,
          -2.410888671875e-08,
          -2.197265625e-08,
          -2.105712890625e-08,
          -2.01416015625e-08,
          -1.556396484375e-08,
          -1.495361328125e-08,
          -1.312255859375e-08,
          -1.3427734375e-08,
          -1.15966796875e-08,
          -1.0986328125e-08,
          -8.544921875e-09,
          -6.7138671875e-09,
          -6.7138671875e-09,
          -6.103515625e-09,
          -5.4931640625e-09,
          -3.662109375e-09,
          -3.662109375e-09,
          -9.1552734375e-10,
          -3.0517578125e-10,
          0,
          -9.1552734375e-10,
          -1.52587890625e-09,
          1.8310546875e-09,
          3.35693359375e-09,
          5.4931640625e-09,
          6.103515625e-09,
          4.57763671875e-09,
          6.40869140625e-09,
          5.18798828125e-09,
          7.9345703125e-09,
          8.23974609375e-09,
          1.0986328125e-08,
          7.9345703125e-09,
          7.01904296875e-09,
          1.220703125e-08,
          8.544921875e-09,
          1.129150390625e-08,
          9.765625e-09,
          1.03759765625e-08,
          1.0986328125e-08,
          8.85009765625e-09,
          1.129150390625e-08,
          1.190185546875e-08,
          1.129150390625e-08,
          9.46044921875e-09,
          1.15966796875e-08,
          1.28173828125e-08,
          1.068115234375e-08,
          9.765625e-09,
          1.220703125e-08,
          1.251220703125e-08,
          1.28173828125e-08,
          1.40380859375e-08,
          1.28173828125e-08,
          1.373291015625e-08,
          1.0986328125e-08,
          1.312255859375e-08,
          1.373291015625e-08
         ]
        },
        {
         "marker": {
          "color": "red",
          "size": 8,
          "symbol": "cross"
         },
         "mode": "markers",
         "name": "Desired Peaks",
         "type": "scatter",
         "x": [
          -1.2884521484375,
          -1.1273193359375,
          -1.0003662109375,
          -0.6976318359375
         ],
         "y": [
          -7.58056640625e-07,
          -5.1971435546875e-07,
          -9.3170166015625e-07,
          1.03759765625e-08
         ]
        },
        {
         "marker": {
          "color": "blue",
          "size": 8,
          "symbol": "cross"
         },
         "mode": "markers",
         "name": "Detected Thresholds",
         "type": "scatter",
         "x": [
          -1.3616943359375,
          -1.2738037109375,
          -1.1663818359375,
          -1.0443115234375,
          -0.7952880859375,
          -0.6341552734375
         ],
         "y": [
          -1.3079833984375e-06,
          -6.6986083984375e-07,
          -2.9693603515625e-07,
          -1.62353515625e-07,
          -3.0517578125e-10,
          1.28173828125e-08
         ]
        },
        {
         "line": {
          "color": "Black",
          "width": 1
         },
         "mode": "lines",
         "name": "Linear Baseline",
         "type": "scatter",
         "x": [
          -1.1663818359375,
          -1.0443115234375
         ],
         "y": [
          -2.9693603515625e-07,
          -1.62353515625e-07
         ]
        },
        {
         "marker": {
          "color": "black",
          "size": 7,
          "symbol": "circle"
         },
         "mode": "markers",
         "name": "Peak Point",
         "type": "scatter",
         "x": [
          -1.1273193359375
         ],
         "y": [
          -5.1971435546875e-07
         ]
        }
       ],
       "layout": {
        "template": {
         "data": {
          "bar": [
           {
            "error_x": {
             "color": "#2a3f5f"
            },
            "error_y": {
             "color": "#2a3f5f"
            },
            "marker": {
             "line": {
              "color": "#E5ECF6",
              "width": 0.5
             },
             "pattern": {
              "fillmode": "overlay",
              "size": 10,
              "solidity": 0.2
             }
            },
            "type": "bar"
           }
          ],
          "barpolar": [
           {
            "marker": {
             "line": {
              "color": "#E5ECF6",
              "width": 0.5
             },
             "pattern": {
              "fillmode": "overlay",
              "size": 10,
              "solidity": 0.2
             }
            },
            "type": "barpolar"
           }
          ],
          "carpet": [
           {
            "aaxis": {
             "endlinecolor": "#2a3f5f",
             "gridcolor": "white",
             "linecolor": "white",
             "minorgridcolor": "white",
             "startlinecolor": "#2a3f5f"
            },
            "baxis": {
             "endlinecolor": "#2a3f5f",
             "gridcolor": "white",
             "linecolor": "white",
             "minorgridcolor": "white",
             "startlinecolor": "#2a3f5f"
            },
            "type": "carpet"
           }
          ],
          "choropleth": [
           {
            "colorbar": {
             "outlinewidth": 0,
             "ticks": ""
            },
            "type": "choropleth"
           }
          ],
          "contour": [
           {
            "colorbar": {
             "outlinewidth": 0,
             "ticks": ""
            },
            "colorscale": [
             [
              0,
              "#0d0887"
             ],
             [
              0.1111111111111111,
              "#46039f"
             ],
             [
              0.2222222222222222,
              "#7201a8"
             ],
             [
              0.3333333333333333,
              "#9c179e"
             ],
             [
              0.4444444444444444,
              "#bd3786"
             ],
             [
              0.5555555555555556,
              "#d8576b"
             ],
             [
              0.6666666666666666,
              "#ed7953"
             ],
             [
              0.7777777777777778,
              "#fb9f3a"
             ],
             [
              0.8888888888888888,
              "#fdca26"
             ],
             [
              1,
              "#f0f921"
             ]
            ],
            "type": "contour"
           }
          ],
          "contourcarpet": [
           {
            "colorbar": {
             "outlinewidth": 0,
             "ticks": ""
            },
            "type": "contourcarpet"
           }
          ],
          "heatmap": [
           {
            "colorbar": {
             "outlinewidth": 0,
             "ticks": ""
            },
            "colorscale": [
             [
              0,
              "#0d0887"
             ],
             [
              0.1111111111111111,
              "#46039f"
             ],
             [
              0.2222222222222222,
              "#7201a8"
             ],
             [
              0.3333333333333333,
              "#9c179e"
             ],
             [
              0.4444444444444444,
              "#bd3786"
             ],
             [
              0.5555555555555556,
              "#d8576b"
             ],
             [
              0.6666666666666666,
              "#ed7953"
             ],
             [
              0.7777777777777778,
              "#fb9f3a"
             ],
             [
              0.8888888888888888,
              "#fdca26"
             ],
             [
              1,
              "#f0f921"
             ]
            ],
            "type": "heatmap"
           }
          ],
          "heatmapgl": [
           {
            "colorbar": {
             "outlinewidth": 0,
             "ticks": ""
            },
            "colorscale": [
             [
              0,
              "#0d0887"
             ],
             [
              0.1111111111111111,
              "#46039f"
             ],
             [
              0.2222222222222222,
              "#7201a8"
             ],
             [
              0.3333333333333333,
              "#9c179e"
             ],
             [
              0.4444444444444444,
              "#bd3786"
             ],
             [
              0.5555555555555556,
              "#d8576b"
             ],
             [
              0.6666666666666666,
              "#ed7953"
             ],
             [
              0.7777777777777778,
              "#fb9f3a"
             ],
             [
              0.8888888888888888,
              "#fdca26"
             ],
             [
              1,
              "#f0f921"
             ]
            ],
            "type": "heatmapgl"
           }
          ],
          "histogram": [
           {
            "marker": {
             "pattern": {
              "fillmode": "overlay",
              "size": 10,
              "solidity": 0.2
             }
            },
            "type": "histogram"
           }
          ],
          "histogram2d": [
           {
            "colorbar": {
             "outlinewidth": 0,
             "ticks": ""
            },
            "colorscale": [
             [
              0,
              "#0d0887"
             ],
             [
              0.1111111111111111,
              "#46039f"
             ],
             [
              0.2222222222222222,
              "#7201a8"
             ],
             [
              0.3333333333333333,
              "#9c179e"
             ],
             [
              0.4444444444444444,
              "#bd3786"
             ],
             [
              0.5555555555555556,
              "#d8576b"
             ],
             [
              0.6666666666666666,
              "#ed7953"
             ],
             [
              0.7777777777777778,
              "#fb9f3a"
             ],
             [
              0.8888888888888888,
              "#fdca26"
             ],
             [
              1,
              "#f0f921"
             ]
            ],
            "type": "histogram2d"
           }
          ],
          "histogram2dcontour": [
           {
            "colorbar": {
             "outlinewidth": 0,
             "ticks": ""
            },
            "colorscale": [
             [
              0,
              "#0d0887"
             ],
             [
              0.1111111111111111,
              "#46039f"
             ],
             [
              0.2222222222222222,
              "#7201a8"
             ],
             [
              0.3333333333333333,
              "#9c179e"
             ],
             [
              0.4444444444444444,
              "#bd3786"
             ],
             [
              0.5555555555555556,
              "#d8576b"
             ],
             [
              0.6666666666666666,
              "#ed7953"
             ],
             [
              0.7777777777777778,
              "#fb9f3a"
             ],
             [
              0.8888888888888888,
              "#fdca26"
             ],
             [
              1,
              "#f0f921"
             ]
            ],
            "type": "histogram2dcontour"
           }
          ],
          "mesh3d": [
           {
            "colorbar": {
             "outlinewidth": 0,
             "ticks": ""
            },
            "type": "mesh3d"
           }
          ],
          "parcoords": [
           {
            "line": {
             "colorbar": {
              "outlinewidth": 0,
              "ticks": ""
             }
            },
            "type": "parcoords"
           }
          ],
          "pie": [
           {
            "automargin": true,
            "type": "pie"
           }
          ],
          "scatter": [
           {
            "fillpattern": {
             "fillmode": "overlay",
             "size": 10,
             "solidity": 0.2
            },
            "type": "scatter"
           }
          ],
          "scatter3d": [
           {
            "line": {
             "colorbar": {
              "outlinewidth": 0,
              "ticks": ""
             }
            },
            "marker": {
             "colorbar": {
              "outlinewidth": 0,
              "ticks": ""
             }
            },
            "type": "scatter3d"
           }
          ],
          "scattercarpet": [
           {
            "marker": {
             "colorbar": {
              "outlinewidth": 0,
              "ticks": ""
             }
            },
            "type": "scattercarpet"
           }
          ],
          "scattergeo": [
           {
            "marker": {
             "colorbar": {
              "outlinewidth": 0,
              "ticks": ""
             }
            },
            "type": "scattergeo"
           }
          ],
          "scattergl": [
           {
            "marker": {
             "colorbar": {
              "outlinewidth": 0,
              "ticks": ""
             }
            },
            "type": "scattergl"
           }
          ],
          "scattermapbox": [
           {
            "marker": {
             "colorbar": {
              "outlinewidth": 0,
              "ticks": ""
             }
            },
            "type": "scattermapbox"
           }
          ],
          "scatterpolar": [
           {
            "marker": {
             "colorbar": {
              "outlinewidth": 0,
              "ticks": ""
             }
            },
            "type": "scatterpolar"
           }
          ],
          "scatterpolargl": [
           {
            "marker": {
             "colorbar": {
              "outlinewidth": 0,
              "ticks": ""
             }
            },
            "type": "scatterpolargl"
           }
          ],
          "scatterternary": [
           {
            "marker": {
             "colorbar": {
              "outlinewidth": 0,
              "ticks": ""
             }
            },
            "type": "scatterternary"
           }
          ],
          "surface": [
           {
            "colorbar": {
             "outlinewidth": 0,
             "ticks": ""
            },
            "colorscale": [
             [
              0,
              "#0d0887"
             ],
             [
              0.1111111111111111,
              "#46039f"
             ],
             [
              0.2222222222222222,
              "#7201a8"
             ],
             [
              0.3333333333333333,
              "#9c179e"
             ],
             [
              0.4444444444444444,
              "#bd3786"
             ],
             [
              0.5555555555555556,
              "#d8576b"
             ],
             [
              0.6666666666666666,
              "#ed7953"
             ],
             [
              0.7777777777777778,
              "#fb9f3a"
             ],
             [
              0.8888888888888888,
              "#fdca26"
             ],
             [
              1,
              "#f0f921"
             ]
            ],
            "type": "surface"
           }
          ],
          "table": [
           {
            "cells": {
             "fill": {
              "color": "#EBF0F8"
             },
             "line": {
              "color": "white"
             }
            },
            "header": {
             "fill": {
              "color": "#C8D4E3"
             },
             "line": {
              "color": "white"
             }
            },
            "type": "table"
           }
          ]
         },
         "layout": {
          "annotationdefaults": {
           "arrowcolor": "#2a3f5f",
           "arrowhead": 0,
           "arrowwidth": 1
          },
          "autotypenumbers": "strict",
          "coloraxis": {
           "colorbar": {
            "outlinewidth": 0,
            "ticks": ""
           }
          },
          "colorscale": {
           "diverging": [
            [
             0,
             "#8e0152"
            ],
            [
             0.1,
             "#c51b7d"
            ],
            [
             0.2,
             "#de77ae"
            ],
            [
             0.3,
             "#f1b6da"
            ],
            [
             0.4,
             "#fde0ef"
            ],
            [
             0.5,
             "#f7f7f7"
            ],
            [
             0.6,
             "#e6f5d0"
            ],
            [
             0.7,
             "#b8e186"
            ],
            [
             0.8,
             "#7fbc41"
            ],
            [
             0.9,
             "#4d9221"
            ],
            [
             1,
             "#276419"
            ]
           ],
           "sequential": [
            [
             0,
             "#0d0887"
            ],
            [
             0.1111111111111111,
             "#46039f"
            ],
            [
             0.2222222222222222,
             "#7201a8"
            ],
            [
             0.3333333333333333,
             "#9c179e"
            ],
            [
             0.4444444444444444,
             "#bd3786"
            ],
            [
             0.5555555555555556,
             "#d8576b"
            ],
            [
             0.6666666666666666,
             "#ed7953"
            ],
            [
             0.7777777777777778,
             "#fb9f3a"
            ],
            [
             0.8888888888888888,
             "#fdca26"
            ],
            [
             1,
             "#f0f921"
            ]
           ],
           "sequentialminus": [
            [
             0,
             "#0d0887"
            ],
            [
             0.1111111111111111,
             "#46039f"
            ],
            [
             0.2222222222222222,
             "#7201a8"
            ],
            [
             0.3333333333333333,
             "#9c179e"
            ],
            [
             0.4444444444444444,
             "#bd3786"
            ],
            [
             0.5555555555555556,
             "#d8576b"
            ],
            [
             0.6666666666666666,
             "#ed7953"
            ],
            [
             0.7777777777777778,
             "#fb9f3a"
            ],
            [
             0.8888888888888888,
             "#fdca26"
            ],
            [
             1,
             "#f0f921"
            ]
           ]
          },
          "colorway": [
           "#636efa",
           "#EF553B",
           "#00cc96",
           "#ab63fa",
           "#FFA15A",
           "#19d3f3",
           "#FF6692",
           "#B6E880",
           "#FF97FF",
           "#FECB52"
          ],
          "font": {
           "color": "#2a3f5f"
          },
          "geo": {
           "bgcolor": "white",
           "lakecolor": "white",
           "landcolor": "#E5ECF6",
           "showlakes": true,
           "showland": true,
           "subunitcolor": "white"
          },
          "hoverlabel": {
           "align": "left"
          },
          "hovermode": "closest",
          "mapbox": {
           "style": "light"
          },
          "paper_bgcolor": "white",
          "plot_bgcolor": "#E5ECF6",
          "polar": {
           "angularaxis": {
            "gridcolor": "white",
            "linecolor": "white",
            "ticks": ""
           },
           "bgcolor": "#E5ECF6",
           "radialaxis": {
            "gridcolor": "white",
            "linecolor": "white",
            "ticks": ""
           }
          },
          "scene": {
           "xaxis": {
            "backgroundcolor": "#E5ECF6",
            "gridcolor": "white",
            "gridwidth": 2,
            "linecolor": "white",
            "showbackground": true,
            "ticks": "",
            "zerolinecolor": "white"
           },
           "yaxis": {
            "backgroundcolor": "#E5ECF6",
            "gridcolor": "white",
            "gridwidth": 2,
            "linecolor": "white",
            "showbackground": true,
            "ticks": "",
            "zerolinecolor": "white"
           },
           "zaxis": {
            "backgroundcolor": "#E5ECF6",
            "gridcolor": "white",
            "gridwidth": 2,
            "linecolor": "white",
            "showbackground": true,
            "ticks": "",
            "zerolinecolor": "white"
           }
          },
          "shapedefaults": {
           "line": {
            "color": "#2a3f5f"
           }
          },
          "ternary": {
           "aaxis": {
            "gridcolor": "white",
            "linecolor": "white",
            "ticks": ""
           },
           "baxis": {
            "gridcolor": "white",
            "linecolor": "white",
            "ticks": ""
           },
           "bgcolor": "#E5ECF6",
           "caxis": {
            "gridcolor": "white",
            "linecolor": "white",
            "ticks": ""
           }
          },
          "title": {
           "x": 0.05
          },
          "xaxis": {
           "automargin": true,
           "gridcolor": "white",
           "linecolor": "white",
           "ticks": "",
           "title": {
            "standoff": 15
           },
           "zerolinecolor": "white",
           "zerolinewidth": 2
          },
          "yaxis": {
           "automargin": true,
           "gridcolor": "white",
           "linecolor": "white",
           "ticks": "",
           "title": {
            "standoff": 15
           },
           "zerolinecolor": "white",
           "zerolinewidth": 2
          }
         }
        }
       }
      },
      "text/html": [
       "<div>                            <div id=\"68703746-2c6f-4463-acae-17ac4d9b82b6\" class=\"plotly-graph-div\" style=\"height:525px; width:100%;\"></div>            <script type=\"text/javascript\">                require([\"plotly\"], function(Plotly) {                    window.PLOTLYENV=window.PLOTLYENV || {};                                    if (document.getElementById(\"68703746-2c6f-4463-acae-17ac4d9b82b6\")) {                    Plotly.newPlot(                        \"68703746-2c6f-4463-acae-17ac4d9b82b6\",                        [{\"mode\":\"lines\",\"name\":\"Original Plot\",\"x\":[-1.4007568359375,-1.3958740234375,-1.3909912109375,-1.3861083984375,-1.3812255859375,-1.3763427734375,-1.3714599609375,-1.3665771484375,-1.3616943359375,-1.3568115234375,-1.3519287109375,-1.3470458984375,-1.3421630859375,-1.3372802734375,-1.3323974609375,-1.3275146484375,-1.3226318359375,-1.3177490234375,-1.3128662109375,-1.3079833984375,-1.3031005859375,-1.2982177734375,-1.2933349609375,-1.2884521484375,-1.2835693359375,-1.2786865234375,-1.2738037109375,-1.2689208984375,-1.2640380859375,-1.2591552734375,-1.2542724609375,-1.2493896484375,-1.2445068359375,-1.2396240234375,-1.2347412109375,-1.2298583984375,-1.2249755859375,-1.2200927734375,-1.2152099609375,-1.2103271484375,-1.2054443359375,-1.2005615234375,-1.1956787109375,-1.1907958984375,-1.1859130859375,-1.1810302734375,-1.1761474609375,-1.1712646484375,-1.1663818359375,-1.1614990234375,-1.1566162109375,-1.1517333984375,-1.1468505859375,-1.1419677734375,-1.1370849609375,-1.1322021484375,-1.1273193359375,-1.1224365234375,-1.1175537109375,-1.1126708984375,-1.1077880859375,-1.1029052734375,-1.0980224609375,-1.0931396484375,-1.0882568359375,-1.0833740234375,-1.0784912109375,-1.0736083984375,-1.0687255859375,-1.0638427734375,-1.0589599609375,-1.0540771484375,-1.0491943359375,-1.0443115234375,-1.0394287109375,-1.0345458984375,-1.0296630859375,-1.0247802734375,-1.0198974609375,-1.0150146484375,-1.0101318359375,-1.0052490234375,-1.0003662109375,-0.9954833984375,-0.9906005859375,-0.9857177734375,-0.9808349609375,-0.9759521484375,-0.9710693359375,-0.9661865234375,-0.9613037109375,-0.9564208984375,-0.9515380859375,-0.9466552734375,-0.9417724609375,-0.9368896484375,-0.9320068359375,-0.9271240234375,-0.9222412109375,-0.9173583984375,-0.9124755859375,-0.9075927734375,-0.9027099609375,-0.8978271484375,-0.8929443359375,-0.8880615234375,-0.8831787109375,-0.8782958984375,-0.8734130859375,-0.8685302734375,-0.8636474609375,-0.8587646484375,-0.8538818359375,-0.8489990234375,-0.8441162109375,-0.8392333984375,-0.8343505859375,-0.8294677734375,-0.8245849609375,-0.8197021484375,-0.8148193359375,-0.8099365234375,-0.8050537109375,-0.8001708984375,-0.7952880859375,-0.7904052734375,-0.7855224609375,-0.7806396484375,-0.7757568359375,-0.7708740234375,-0.7659912109375,-0.7611083984375,-0.7562255859375,-0.7513427734375,-0.7464599609375,-0.7415771484375,-0.7366943359375,-0.7318115234375,-0.7269287109375,-0.7220458984375,-0.7171630859375,-0.7122802734375,-0.7073974609375,-0.7025146484375,-0.6976318359375,-0.6927490234375,-0.6878662109375,-0.6829833984375,-0.6781005859375,-0.6732177734375,-0.6683349609375,-0.6634521484375,-0.6585693359375,-0.6536865234375,-0.6488037109375,-0.6439208984375,-0.6390380859375,-0.6341552734375,-0.6292724609375,-0.6243896484375,-0.6195068359375,-0.6146240234375,-0.6097412109375,-0.6048583984375],\"y\":[-1.69708251953125e-06,-1.6461181640625e-06,-1.5936279296875e-06,-1.5447998046875e-06,-1.49261474609375e-06,-1.44622802734375e-06,-1.39862060546875e-06,-1.35528564453125e-06,-1.3079833984375e-06,-1.265869140625e-06,-1.22528076171875e-06,-1.1822509765625e-06,-1.14288330078125e-06,-1.10504150390625e-06,-1.06719970703125e-06,-1.03057861328125e-06,-9.930419921875e-07,-9.5672607421875e-07,-9.222412109375e-07,-8.868408203125e-07,-8.53271484375e-07,-8.1817626953125e-07,-7.867431640625e-07,-7.58056640625e-07,-7.2662353515625e-07,-6.9580078125e-07,-6.6986083984375e-07,-6.4208984375e-07,-6.1859130859375e-07,-5.9295654296875e-07,-5.6854248046875e-07,-5.4595947265625e-07,-5.255126953125e-07,-5.0262451171875e-07,-4.8187255859375e-07,-4.6356201171875e-07,-4.4464111328125e-07,-4.2694091796875e-07,-4.1168212890625e-07,-3.9520263671875e-07,-3.8421630859375e-07,-3.7200927734375e-07,-3.5858154296875e-07,-3.460693359375e-07,-3.338623046875e-07,-3.2012939453125e-07,-3.118896484375e-07,-3.021240234375e-07,-2.9693603515625e-07,-3.0303955078125e-07,-3.204345703125e-07,-3.485107421875e-07,-3.9215087890625e-07,-4.3914794921875e-07,-4.7607421875e-07,-5.072021484375e-07,-5.1971435546875e-07,-5.1422119140625e-07,-4.98046875e-07,-4.7332763671875e-07,-4.3914794921875e-07,-4.052734375e-07,-3.7139892578125e-07,-3.4423828125e-07,-3.155517578125e-07,-2.8961181640625e-07,-2.6580810546875e-07,-2.484130859375e-07,-2.325439453125e-07,-2.16064453125e-07,-2.0111083984375e-07,-1.8707275390625e-07,-1.72119140625e-07,-1.62353515625e-07,-1.55029296875e-07,-1.6021728515625e-07,-2.0782470703125e-07,-3.118896484375e-07,-4.803466796875e-07,-6.7047119140625e-07,-8.1268310546875e-07,-9.161376953125e-07,-9.3170166015625e-07,-8.8714599609375e-07,-7.9498291015625e-07,-6.8115234375e-07,-5.7373046875e-07,-4.6844482421875e-07,-3.7353515625e-07,-2.99072265625e-07,-2.35595703125e-07,-1.904296875e-07,-1.47705078125e-07,-1.1993408203125e-07,-9.765625e-08,-8.148193359375e-08,-6.9580078125e-08,-5.828857421875e-08,-5.18798828125e-08,-4.5166015625e-08,-4.058837890625e-08,-3.662109375e-08,-3.23486328125e-08,-2.99072265625e-08,-2.838134765625e-08,-2.44140625e-08,-2.410888671875e-08,-2.197265625e-08,-2.105712890625e-08,-2.01416015625e-08,-1.556396484375e-08,-1.495361328125e-08,-1.312255859375e-08,-1.3427734375e-08,-1.15966796875e-08,-1.0986328125e-08,-8.544921875e-09,-6.7138671875e-09,-6.7138671875e-09,-6.103515625e-09,-5.4931640625e-09,-3.662109375e-09,-3.662109375e-09,-9.1552734375e-10,-3.0517578125e-10,0.0,-9.1552734375e-10,-1.52587890625e-09,1.8310546875e-09,3.35693359375e-09,5.4931640625e-09,6.103515625e-09,4.57763671875e-09,6.40869140625e-09,5.18798828125e-09,7.9345703125e-09,8.23974609375e-09,1.0986328125e-08,7.9345703125e-09,7.01904296875e-09,1.220703125e-08,8.544921875e-09,1.129150390625e-08,9.765625e-09,1.03759765625e-08,1.0986328125e-08,8.85009765625e-09,1.129150390625e-08,1.190185546875e-08,1.129150390625e-08,9.46044921875e-09,1.15966796875e-08,1.28173828125e-08,1.068115234375e-08,9.765625e-09,1.220703125e-08,1.251220703125e-08,1.28173828125e-08,1.40380859375e-08,1.28173828125e-08,1.373291015625e-08,1.0986328125e-08,1.312255859375e-08,1.373291015625e-08],\"type\":\"scatter\"},{\"marker\":{\"color\":\"red\",\"size\":8,\"symbol\":\"cross\"},\"mode\":\"markers\",\"name\":\"Desired Peaks\",\"x\":[-1.2884521484375,-1.1273193359375,-1.0003662109375,-0.6976318359375],\"y\":[-7.58056640625e-07,-5.1971435546875e-07,-9.3170166015625e-07,1.03759765625e-08],\"type\":\"scatter\"},{\"marker\":{\"color\":\"blue\",\"size\":8,\"symbol\":\"cross\"},\"mode\":\"markers\",\"name\":\"Detected Thresholds\",\"x\":[-1.3616943359375,-1.2738037109375,-1.1663818359375,-1.0443115234375,-0.7952880859375,-0.6341552734375],\"y\":[-1.3079833984375e-06,-6.6986083984375e-07,-2.9693603515625e-07,-1.62353515625e-07,-3.0517578125e-10,1.28173828125e-08],\"type\":\"scatter\"},{\"line\":{\"color\":\"Black\",\"width\":1},\"mode\":\"lines\",\"name\":\"Linear Baseline\",\"x\":[-1.1663818359375,-1.0443115234375],\"y\":[-2.9693603515625e-07,-1.62353515625e-07],\"type\":\"scatter\"},{\"marker\":{\"color\":\"black\",\"size\":7,\"symbol\":\"circle\"},\"mode\":\"markers\",\"name\":\"Peak Point\",\"x\":[-1.1273193359375],\"y\":[-5.1971435546875e-07],\"type\":\"scatter\"}],                        {\"template\":{\"data\":{\"histogram2dcontour\":[{\"type\":\"histogram2dcontour\",\"colorbar\":{\"outlinewidth\":0,\"ticks\":\"\"},\"colorscale\":[[0.0,\"#0d0887\"],[0.1111111111111111,\"#46039f\"],[0.2222222222222222,\"#7201a8\"],[0.3333333333333333,\"#9c179e\"],[0.4444444444444444,\"#bd3786\"],[0.5555555555555556,\"#d8576b\"],[0.6666666666666666,\"#ed7953\"],[0.7777777777777778,\"#fb9f3a\"],[0.8888888888888888,\"#fdca26\"],[1.0,\"#f0f921\"]]}],\"choropleth\":[{\"type\":\"choropleth\",\"colorbar\":{\"outlinewidth\":0,\"ticks\":\"\"}}],\"histogram2d\":[{\"type\":\"histogram2d\",\"colorbar\":{\"outlinewidth\":0,\"ticks\":\"\"},\"colorscale\":[[0.0,\"#0d0887\"],[0.1111111111111111,\"#46039f\"],[0.2222222222222222,\"#7201a8\"],[0.3333333333333333,\"#9c179e\"],[0.4444444444444444,\"#bd3786\"],[0.5555555555555556,\"#d8576b\"],[0.6666666666666666,\"#ed7953\"],[0.7777777777777778,\"#fb9f3a\"],[0.8888888888888888,\"#fdca26\"],[1.0,\"#f0f921\"]]}],\"heatmap\":[{\"type\":\"heatmap\",\"colorbar\":{\"outlinewidth\":0,\"ticks\":\"\"},\"colorscale\":[[0.0,\"#0d0887\"],[0.1111111111111111,\"#46039f\"],[0.2222222222222222,\"#7201a8\"],[0.3333333333333333,\"#9c179e\"],[0.4444444444444444,\"#bd3786\"],[0.5555555555555556,\"#d8576b\"],[0.6666666666666666,\"#ed7953\"],[0.7777777777777778,\"#fb9f3a\"],[0.8888888888888888,\"#fdca26\"],[1.0,\"#f0f921\"]]}],\"heatmapgl\":[{\"type\":\"heatmapgl\",\"colorbar\":{\"outlinewidth\":0,\"ticks\":\"\"},\"colorscale\":[[0.0,\"#0d0887\"],[0.1111111111111111,\"#46039f\"],[0.2222222222222222,\"#7201a8\"],[0.3333333333333333,\"#9c179e\"],[0.4444444444444444,\"#bd3786\"],[0.5555555555555556,\"#d8576b\"],[0.6666666666666666,\"#ed7953\"],[0.7777777777777778,\"#fb9f3a\"],[0.8888888888888888,\"#fdca26\"],[1.0,\"#f0f921\"]]}],\"contourcarpet\":[{\"type\":\"contourcarpet\",\"colorbar\":{\"outlinewidth\":0,\"ticks\":\"\"}}],\"contour\":[{\"type\":\"contour\",\"colorbar\":{\"outlinewidth\":0,\"ticks\":\"\"},\"colorscale\":[[0.0,\"#0d0887\"],[0.1111111111111111,\"#46039f\"],[0.2222222222222222,\"#7201a8\"],[0.3333333333333333,\"#9c179e\"],[0.4444444444444444,\"#bd3786\"],[0.5555555555555556,\"#d8576b\"],[0.6666666666666666,\"#ed7953\"],[0.7777777777777778,\"#fb9f3a\"],[0.8888888888888888,\"#fdca26\"],[1.0,\"#f0f921\"]]}],\"surface\":[{\"type\":\"surface\",\"colorbar\":{\"outlinewidth\":0,\"ticks\":\"\"},\"colorscale\":[[0.0,\"#0d0887\"],[0.1111111111111111,\"#46039f\"],[0.2222222222222222,\"#7201a8\"],[0.3333333333333333,\"#9c179e\"],[0.4444444444444444,\"#bd3786\"],[0.5555555555555556,\"#d8576b\"],[0.6666666666666666,\"#ed7953\"],[0.7777777777777778,\"#fb9f3a\"],[0.8888888888888888,\"#fdca26\"],[1.0,\"#f0f921\"]]}],\"mesh3d\":[{\"type\":\"mesh3d\",\"colorbar\":{\"outlinewidth\":0,\"ticks\":\"\"}}],\"scatter\":[{\"fillpattern\":{\"fillmode\":\"overlay\",\"size\":10,\"solidity\":0.2},\"type\":\"scatter\"}],\"parcoords\":[{\"type\":\"parcoords\",\"line\":{\"colorbar\":{\"outlinewidth\":0,\"ticks\":\"\"}}}],\"scatterpolargl\":[{\"type\":\"scatterpolargl\",\"marker\":{\"colorbar\":{\"outlinewidth\":0,\"ticks\":\"\"}}}],\"bar\":[{\"error_x\":{\"color\":\"#2a3f5f\"},\"error_y\":{\"color\":\"#2a3f5f\"},\"marker\":{\"line\":{\"color\":\"#E5ECF6\",\"width\":0.5},\"pattern\":{\"fillmode\":\"overlay\",\"size\":10,\"solidity\":0.2}},\"type\":\"bar\"}],\"scattergeo\":[{\"type\":\"scattergeo\",\"marker\":{\"colorbar\":{\"outlinewidth\":0,\"ticks\":\"\"}}}],\"scatterpolar\":[{\"type\":\"scatterpolar\",\"marker\":{\"colorbar\":{\"outlinewidth\":0,\"ticks\":\"\"}}}],\"histogram\":[{\"marker\":{\"pattern\":{\"fillmode\":\"overlay\",\"size\":10,\"solidity\":0.2}},\"type\":\"histogram\"}],\"scattergl\":[{\"type\":\"scattergl\",\"marker\":{\"colorbar\":{\"outlinewidth\":0,\"ticks\":\"\"}}}],\"scatter3d\":[{\"type\":\"scatter3d\",\"line\":{\"colorbar\":{\"outlinewidth\":0,\"ticks\":\"\"}},\"marker\":{\"colorbar\":{\"outlinewidth\":0,\"ticks\":\"\"}}}],\"scattermapbox\":[{\"type\":\"scattermapbox\",\"marker\":{\"colorbar\":{\"outlinewidth\":0,\"ticks\":\"\"}}}],\"scatterternary\":[{\"type\":\"scatterternary\",\"marker\":{\"colorbar\":{\"outlinewidth\":0,\"ticks\":\"\"}}}],\"scattercarpet\":[{\"type\":\"scattercarpet\",\"marker\":{\"colorbar\":{\"outlinewidth\":0,\"ticks\":\"\"}}}],\"carpet\":[{\"aaxis\":{\"endlinecolor\":\"#2a3f5f\",\"gridcolor\":\"white\",\"linecolor\":\"white\",\"minorgridcolor\":\"white\",\"startlinecolor\":\"#2a3f5f\"},\"baxis\":{\"endlinecolor\":\"#2a3f5f\",\"gridcolor\":\"white\",\"linecolor\":\"white\",\"minorgridcolor\":\"white\",\"startlinecolor\":\"#2a3f5f\"},\"type\":\"carpet\"}],\"table\":[{\"cells\":{\"fill\":{\"color\":\"#EBF0F8\"},\"line\":{\"color\":\"white\"}},\"header\":{\"fill\":{\"color\":\"#C8D4E3\"},\"line\":{\"color\":\"white\"}},\"type\":\"table\"}],\"barpolar\":[{\"marker\":{\"line\":{\"color\":\"#E5ECF6\",\"width\":0.5},\"pattern\":{\"fillmode\":\"overlay\",\"size\":10,\"solidity\":0.2}},\"type\":\"barpolar\"}],\"pie\":[{\"automargin\":true,\"type\":\"pie\"}]},\"layout\":{\"autotypenumbers\":\"strict\",\"colorway\":[\"#636efa\",\"#EF553B\",\"#00cc96\",\"#ab63fa\",\"#FFA15A\",\"#19d3f3\",\"#FF6692\",\"#B6E880\",\"#FF97FF\",\"#FECB52\"],\"font\":{\"color\":\"#2a3f5f\"},\"hovermode\":\"closest\",\"hoverlabel\":{\"align\":\"left\"},\"paper_bgcolor\":\"white\",\"plot_bgcolor\":\"#E5ECF6\",\"polar\":{\"bgcolor\":\"#E5ECF6\",\"angularaxis\":{\"gridcolor\":\"white\",\"linecolor\":\"white\",\"ticks\":\"\"},\"radialaxis\":{\"gridcolor\":\"white\",\"linecolor\":\"white\",\"ticks\":\"\"}},\"ternary\":{\"bgcolor\":\"#E5ECF6\",\"aaxis\":{\"gridcolor\":\"white\",\"linecolor\":\"white\",\"ticks\":\"\"},\"baxis\":{\"gridcolor\":\"white\",\"linecolor\":\"white\",\"ticks\":\"\"},\"caxis\":{\"gridcolor\":\"white\",\"linecolor\":\"white\",\"ticks\":\"\"}},\"coloraxis\":{\"colorbar\":{\"outlinewidth\":0,\"ticks\":\"\"}},\"colorscale\":{\"sequential\":[[0.0,\"#0d0887\"],[0.1111111111111111,\"#46039f\"],[0.2222222222222222,\"#7201a8\"],[0.3333333333333333,\"#9c179e\"],[0.4444444444444444,\"#bd3786\"],[0.5555555555555556,\"#d8576b\"],[0.6666666666666666,\"#ed7953\"],[0.7777777777777778,\"#fb9f3a\"],[0.8888888888888888,\"#fdca26\"],[1.0,\"#f0f921\"]],\"sequentialminus\":[[0.0,\"#0d0887\"],[0.1111111111111111,\"#46039f\"],[0.2222222222222222,\"#7201a8\"],[0.3333333333333333,\"#9c179e\"],[0.4444444444444444,\"#bd3786\"],[0.5555555555555556,\"#d8576b\"],[0.6666666666666666,\"#ed7953\"],[0.7777777777777778,\"#fb9f3a\"],[0.8888888888888888,\"#fdca26\"],[1.0,\"#f0f921\"]],\"diverging\":[[0,\"#8e0152\"],[0.1,\"#c51b7d\"],[0.2,\"#de77ae\"],[0.3,\"#f1b6da\"],[0.4,\"#fde0ef\"],[0.5,\"#f7f7f7\"],[0.6,\"#e6f5d0\"],[0.7,\"#b8e186\"],[0.8,\"#7fbc41\"],[0.9,\"#4d9221\"],[1,\"#276419\"]]},\"xaxis\":{\"gridcolor\":\"white\",\"linecolor\":\"white\",\"ticks\":\"\",\"title\":{\"standoff\":15},\"zerolinecolor\":\"white\",\"automargin\":true,\"zerolinewidth\":2},\"yaxis\":{\"gridcolor\":\"white\",\"linecolor\":\"white\",\"ticks\":\"\",\"title\":{\"standoff\":15},\"zerolinecolor\":\"white\",\"automargin\":true,\"zerolinewidth\":2},\"scene\":{\"xaxis\":{\"backgroundcolor\":\"#E5ECF6\",\"gridcolor\":\"white\",\"linecolor\":\"white\",\"showbackground\":true,\"ticks\":\"\",\"zerolinecolor\":\"white\",\"gridwidth\":2},\"yaxis\":{\"backgroundcolor\":\"#E5ECF6\",\"gridcolor\":\"white\",\"linecolor\":\"white\",\"showbackground\":true,\"ticks\":\"\",\"zerolinecolor\":\"white\",\"gridwidth\":2},\"zaxis\":{\"backgroundcolor\":\"#E5ECF6\",\"gridcolor\":\"white\",\"linecolor\":\"white\",\"showbackground\":true,\"ticks\":\"\",\"zerolinecolor\":\"white\",\"gridwidth\":2}},\"shapedefaults\":{\"line\":{\"color\":\"#2a3f5f\"}},\"annotationdefaults\":{\"arrowcolor\":\"#2a3f5f\",\"arrowhead\":0,\"arrowwidth\":1},\"geo\":{\"bgcolor\":\"white\",\"landcolor\":\"#E5ECF6\",\"subunitcolor\":\"white\",\"showland\":true,\"showlakes\":true,\"lakecolor\":\"white\"},\"title\":{\"x\":0.05},\"mapbox\":{\"style\":\"light\"}}}},                        {\"responsive\": true}                    ).then(function(){\n",
       "                            \n",
       "var gd = document.getElementById('68703746-2c6f-4463-acae-17ac4d9b82b6');\n",
       "var x = new MutationObserver(function (mutations, observer) {{\n",
       "        var display = window.getComputedStyle(gd).display;\n",
       "        if (!display || display === 'none') {{\n",
       "            console.log([gd, 'removed!']);\n",
       "            Plotly.purge(gd);\n",
       "            observer.disconnect();\n",
       "        }}\n",
       "}});\n",
       "\n",
       "// Listen for the removal of the full notebook cells\n",
       "var notebookContainer = gd.closest('#notebook-container');\n",
       "if (notebookContainer) {{\n",
       "    x.observe(notebookContainer, {childList: true});\n",
       "}}\n",
       "\n",
       "// Listen for the clearing of the current output cell\n",
       "var outputEl = gd.closest('.output');\n",
       "if (outputEl) {{\n",
       "    x.observe(outputEl, {childList: true});\n",
       "}}\n",
       "\n",
       "                        })                };                });            </script>        </div>"
      ]
     },
     "metadata": {},
     "output_type": "display_data"
    },
    {
     "data": {
      "text/plain": [
       "2.6584472656249954e-07"
      ]
     },
     "execution_count": 423,
     "metadata": {},
     "output_type": "execute_result"
    },
    {
     "data": {
      "image/png": "[encoded data removed]",
      "text/plain": [
       "<Figure size 640x480 with 1 Axes>"
      ]
     },
     "metadata": {},
     "output_type": "display_data"
    },
    {
     "data": {
      "image/png": "[encoded data removed]",
      "text/plain": [
       "<Figure size 960x720 with 1 Axes>"
      ]
     },
     "metadata": {},
     "output_type": "display_data"
    }
   ],
   "source": [
    "spectrum = pd.read_csv(file, delimiter = '\\t')\n",
    "\n",
    "\n",
    "#Rename columns to usable\n",
    "spectrum.rename(columns = {'Potential applied (V)':'V', 'WE(1).Current (A)':'I'}, inplace = True)\n",
    "\n",
    "spectrum = spectrum.to_numpy()\n",
    "spectrum = rp.flipsp(spectrum) #flip x axis for interpolation algorithm\n",
    "\n",
    "\n",
    "\n",
    "\n",
    "x1 = np.array(spectrum[:,0])\n",
    "\n",
    "y1 = np.array(spectrum[:,1])\n",
    "a = np.where(x1<0)\n",
    "acount = (np.array(a)).size\n",
    "x = x1[a]\n",
    "y = y1[a]\n",
    "\n",
    "y_smo_4 = rp.smooth(x,y,method=\"savgol\",window_length=7,polyorder=5)\n",
    "\n",
    "\n",
    "\n",
    "# need to define some fitting regions for the spline - this is the best thing to modify to try to get it to pick the right peak if the program is trying to read a value from somewhere else.\n",
    "roi = np.array([[-1.4,-1.03],[-0.94,-0.6]]) #want to exclude the regions where the peaks are\n",
    "\n",
    "# calculating the baselines\n",
    "\n",
    "ycalc_poly_smooth, base_poly_smooth = rp.baseline(x, y, roi, 'poly', polynomial_order=9) #baseline calculated\n",
    "ycalc_poly, base_poly = rp.baseline(x, y, roi, 'poly', polynomial_order=9)\n",
    "\n",
    "# doing the figure to plot intial data, smoothed data, and visualize what the baseline subtraction looks like. \n",
    "plt.figure(dpi=150)\n",
    "plt.plot(x, y_smo_4, \"k-\", label=\"Savgol\")\n",
    "plt.plot(x, y, label = 'Raw')\n",
    "plt.plot(x, base_poly_smooth, \"-\", color=\"grey\", label=\"Calculated Poly Baseline\")\n",
    "\n",
    "plt.xlabel(\"X\")\n",
    "plt.ylabel(\"Y\")\n",
    "\n",
    "\n",
    "base_poly_reshape = base_poly.reshape(acount,)\n",
    "base_poly_reshape_smooth = base_poly_smooth.reshape(acount,)\n",
    "y_smo_4 = y_smo_4.reshape(acount,)\n",
    "\n",
    "\n",
    "y_corr_smooth = np.subtract(y_smo_4, base_poly_reshape_smooth) #baseline subtracted from smoothed data - baseline subtraction is just to help with peak id, subtracted data is not used for the calculation\n",
    "y_corr = np.subtract(y, base_poly_reshape) #baseline subtracted from unsmoothed data\n",
    "\n",
    "\n",
    "plt.plot(x,y_corr,'-', label= 'Unsmooth Poly Baseline Corrected')\n",
    "plt.plot(x, y_corr_smooth,\":\", label = 'Smoothed Poly Baseline Corrected')\n",
    "\n",
    "plt.legend()\n",
    "\n",
    "\n",
    "indices = find_peaks(-y_corr_smooth, distance = 8, height = 5e-9)[0]\n",
    "\n",
    "indices2 = find_peaks(y_corr_smooth, distance = 15)[0] #this can also be modified to help it identify the right peak\n",
    "\n",
    "\n",
    "indicesnick = np.array((indices[x[indices]>-1.03])) #this can also be modified if the nickel peak has shifted and the program can't find it\n",
    "\n",
    "nickelpeak = min(y_corr_smooth[indicesnick])\n",
    "\n",
    "nickelindex = np.where(y_corr_smooth[indices]==nickelpeak) #find nickel peak and use it to locate Co peak\n",
    "\n",
    "coindexstart = (np.array(nickelindex)-1)\n",
    "coindex = coindexstart.flatten()\n",
    "\n",
    "\n",
    "lowerbound = max(x[indices2[x[indices2]<x[indices[coindex]]]])\n",
    "upperbound = min(x[indices2[x[indices2]>x[indices[coindex]]]])\n",
    "\n",
    "\n",
    "xindlow = np.where(x[indices2]==lowerbound) #identify index of threshold list where the lowerbound is located\n",
    "indexlow = indices2[xindlow] #use that index to find the corresponding index value in the greater index list of all x values\n",
    "\n",
    "xindhigh = np.where(x[indices2]==upperbound) #as above, for upperbound\n",
    "indexhigh = indices2[xindhigh]\n",
    "\n",
    "\n",
    "\n",
    "cobaselinex = np.concatenate((x[indices2[xindlow]], x[indices2[xindhigh]]), axis = 0) #get coordinates for peak edges to be able to get flat baseline\n",
    "cobaseliney = np.concatenate((y[indices2[xindlow]], y[indices2[xindhigh]]), axis = 0)\n",
    "\n",
    "\n",
    "peakx = x[indices[coindex]]\n",
    "peaky = y[indices[coindex]]\n",
    "\n",
    "\n",
    "#Show scan and where the peak has been picked from\n",
    "\n",
    "fig = go.Figure()\n",
    "\n",
    "fig.add_trace(go.Scatter(x=x,\n",
    "    y=y,\n",
    "    mode='lines',\n",
    "    name='Original Plot'\n",
    "))\n",
    "\n",
    "fig.add_trace(go.Scatter(\n",
    "    x=[x[p] for p in indices],\n",
    "    y=[y[j] for j in indices],\n",
    "    mode='markers',\n",
    "    marker=dict(\n",
    "        size=8,\n",
    "        color='red',\n",
    "        symbol='cross'\n",
    "    ),\n",
    "    name='Desired Peaks'\n",
    "))\n",
    "\n",
    "\n",
    "\n",
    "fig.add_trace(go.Scatter(\n",
    "    x=[x[p] for p in indices2],\n",
    "    y=[y[j] for j in indices2],\n",
    "    mode='markers',\n",
    "    marker=dict(\n",
    "        size=8,\n",
    "        color='blue',\n",
    "        symbol='cross'\n",
    "    ),\n",
    "    name='Detected Thresholds'\n",
    "\n",
    "\n",
    "))\n",
    "\n",
    "#black dot shows the actual peak selected for calculation\n",
    "fig.add_trace(go.Scatter(x=cobaselinex, y=cobaseliney, mode = 'lines', line=dict(color=\"Black\", width=1),name = 'Linear Baseline'))\n",
    "fig.add_trace(go.Scatter(x = np.array(peakx), y = np.array(peaky), mode = 'markers', marker = dict(size = 7, color = 'black', symbol = 'circle'),name = 'Peak Point'))\n",
    "\n",
    "\n",
    "fig.show()\n",
    "\n",
    "#calculate the peak height, two methods as above - method 2 used\n",
    "p1 = np.array((cobaselinex[0],cobaseliney[0]))\n",
    "p2 = np.array((cobaselinex[1],cobaseliney[1]))\n",
    "\n",
    "p3 = np.array((peakx[0],peaky[0]))\n",
    "    \n",
    "d = np.linalg.norm(np.cross(p2-p1, p1-p3))/np.linalg.norm(p2-p1)\n",
    "        \n",
    "points = [p1,p2]\n",
    "x_coords, y_coords = zip(*points)\n",
    "A = np.vstack([x_coords,np.ones(len(x_coords))]).T\n",
    "m, c = np.linalg.lstsq(A, y_coords)[0]\n",
    "\n",
    "hline = m*(peakx[0])+c\n",
    "\n",
    "height = abs(peaky[0]-hline)\n",
    "            \n",
    "height #print out identified peak height for this scan"
   ]
  },
  {
   "cell_type": "code",
   "execution_count": null,
   "metadata": {},
   "outputs": [],
   "source": [
    "\n"
   ]
  },
  {
   "cell_type": "code",
   "execution_count": null,
   "metadata": {},
   "outputs": [],
   "source": []
  }
 ],
 "metadata": {
  "kernelspec": {
   "display_name": "Python 3 (ipykernel)",
   "language": "python",
   "name": "python3"
  },
  "language_info": {
   "codemirror_mode": {
    "name": "ipython",
    "version": 3
   },
   "file_extension": ".py",
   "mimetype": "text/x-python",
   "name": "python",
   "nbconvert_exporter": "python",
   "pygments_lexer": "ipython3",
   "version": "3.8.15"
  }
 },
 "nbformat": 4,
 "nbformat_minor": 4
}
